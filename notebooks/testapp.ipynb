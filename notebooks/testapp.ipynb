{
 "metadata": {
  "language_info": {
   "codemirror_mode": {
    "name": "ipython",
    "version": 3
   },
   "file_extension": ".py",
   "mimetype": "text/x-python",
   "name": "python",
   "nbconvert_exporter": "python",
   "pygments_lexer": "ipython3",
   "version": "3.8.8-final"
  },
  "orig_nbformat": 2,
  "kernelspec": {
   "name": "python3",
   "display_name": "Python 3",
   "language": "python"
  }
 },
 "nbformat": 4,
 "nbformat_minor": 2,
 "cells": [
  {
   "cell_type": "code",
   "execution_count": 1,
   "metadata": {},
   "outputs": [],
   "source": [
    "import requests"
   ]
  },
  {
   "cell_type": "code",
   "execution_count": 2,
   "metadata": {},
   "outputs": [],
   "source": [
    "data = {\"mean radius\":{\"0\":14.42},\"mean texture\":{\"0\":19.77},\"mean perimeter\":{\"0\":94.48},\"mean area\":{\"0\":642.5},\"mean smoothness\":{\"0\":0.09752},\"mean compactness\":{\"0\":0.1141},\"mean concavity\":{\"0\":0.09388},\"mean concave points\":{\"0\":0.05839},\"mean symmetry\":{\"0\":0.1879},\"mean fractal dimension\":{\"0\":0.0639},\"radius error\":{\"0\":0.2895},\"texture error\":{\"0\":1.851},\"perimeter error\":{\"0\":2.376},\"area error\":{\"0\":26.85},\"smoothness error\":{\"0\":0.008005},\"compactness error\":{\"0\":0.02895},\"concavity error\":{\"0\":0.03321},\"concave points error\":{\"0\":0.01424},\"symmetry error\":{\"0\":0.01462},\"fractal dimension error\":{\"0\":0.004452},\"worst radius\":{\"0\":16.33},\"worst texture\":{\"0\":30.86},\"worst perimeter\":{\"0\":109.5},\"worst area\":{\"0\":826.4},\"worst smoothness\":{\"0\":0.1431},\"worst compactness\":{\"0\":0.3026},\"worst concavity\":{\"0\":0.3194},\"worst concave points\":{\"0\":0.1565},\"worst symmetry\":{\"0\":0.2718},\"worst fractal dimension\":{\"0\":0.09353}}\n",
    "\n",
    "res = requests.post(\n",
    "    # Use Port 5000 for flask only\n",
    "    url=\"http://localhost:8080/predict\",\n",
    "    json=data\n",
    ")"
   ]
  },
  {
   "cell_type": "code",
   "execution_count": 3,
   "metadata": {},
   "outputs": [
    {
     "output_type": "execute_result",
     "data": {
      "text/plain": [
       "{'Prediction': 1.0}"
      ]
     },
     "metadata": {},
     "execution_count": 3
    }
   ],
   "source": [
    "res.json()"
   ]
  }
 ]
}