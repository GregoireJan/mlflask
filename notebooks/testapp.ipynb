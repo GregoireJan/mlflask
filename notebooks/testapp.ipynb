{
 "metadata": {
  "language_info": {
   "codemirror_mode": {
    "name": "ipython",
    "version": 3
   },
   "file_extension": ".py",
   "mimetype": "text/x-python",
   "name": "python",
   "nbconvert_exporter": "python",
   "pygments_lexer": "ipython3",
   "version": "3.8.3-final"
  },
  "orig_nbformat": 2,
  "kernelspec": {
   "name": "python3",
   "display_name": "Python 3.8.3 64-bit ('base': conda)",
   "metadata": {
    "interpreter": {
     "hash": "745d56fb3367ca4c5b9d90ad39a17141ff9ba8c4f16d8ed85b8ad50f9191dd81"
    }
   }
  }
 },
 "nbformat": 4,
 "nbformat_minor": 2,
 "cells": [
  {
   "cell_type": "code",
   "execution_count": 14,
   "metadata": {},
   "outputs": [],
   "source": [
    "import requests"
   ]
  },
  {
   "cell_type": "code",
   "execution_count": 22,
   "metadata": {},
   "outputs": [],
   "source": [
    "res = requests.post(\n",
    "    # Use Port 5000 for flask only\n",
    "    url=\"http://localhost:8080/predict\",\n",
    "    json={'mean radius': 17.99,\n",
    "            'mean texture': 10.38,\n",
    "            'mean perimeter': 122.8,\n",
    "            'mean area': 1001.0,\n",
    "            'mean smoothness': 0.1184,\n",
    "            'mean compactness': 0.2776,\n",
    "            'mean concavity': 0.3001,\n",
    "            'mean concave points': 0.1471,\n",
    "            'mean symmetry': 0.2419,\n",
    "            'radius error': 1.095,\n",
    "            'perimeter error': 8.589,\n",
    "            'area error': 153.4,\n",
    "            'compactness error': 0.04904,\n",
    "            'concavity error': 0.05373,\n",
    "            'concave points error': 0.01587,\n",
    "            'worst radius': 25.38,\n",
    "            'worst texture': 17.33,\n",
    "            'worst perimeter': 184.6,\n",
    "            'worst area': 2019.0,\n",
    "            'worst smoothness': 0.1622,\n",
    "            'worst compactness': 0.6656,\n",
    "            'worst concavity': 0.7119,\n",
    "            'worst concave points': 0.2654,\n",
    "            'worst symmetry': 0.4601,\n",
    "            'worst fractal dimension': 0.1189}\n",
    ")"
   ]
  },
  {
   "cell_type": "code",
   "execution_count": 23,
   "metadata": {},
   "outputs": [
    {
     "output_type": "execute_result",
     "data": {
      "text/plain": [
       "{'Input': {'area error': 153.4,\n",
       "  'compactness error': 0.04904,\n",
       "  'concave points error': 0.01587,\n",
       "  'concavity error': 0.05373,\n",
       "  'mean area': 1001.0,\n",
       "  'mean compactness': 0.2776,\n",
       "  'mean concave points': 0.1471,\n",
       "  'mean concavity': 0.3001,\n",
       "  'mean perimeter': 122.8,\n",
       "  'mean radius': 17.99,\n",
       "  'mean smoothness': 0.1184,\n",
       "  'mean symmetry': 0.2419,\n",
       "  'mean texture': 10.38,\n",
       "  'perimeter error': 8.589,\n",
       "  'radius error': 1.095,\n",
       "  'worst area': 2019.0,\n",
       "  'worst compactness': 0.6656,\n",
       "  'worst concave points': 0.2654,\n",
       "  'worst concavity': 0.7119,\n",
       "  'worst fractal dimension': 0.1189,\n",
       "  'worst perimeter': 184.6,\n",
       "  'worst radius': 25.38,\n",
       "  'worst smoothness': 0.1622,\n",
       "  'worst symmetry': 0.4601,\n",
       "  'worst texture': 17.33},\n",
       " 'Prediction': 0.0}"
      ]
     },
     "metadata": {},
     "execution_count": 23
    }
   ],
   "source": [
    "res.json()"
   ]
  }
 ]
}